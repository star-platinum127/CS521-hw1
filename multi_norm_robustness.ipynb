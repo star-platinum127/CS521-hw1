{
  "cells": [
    {
      "cell_type": "markdown",
      "metadata": {
        "id": "Whsg1XX_OZs6"
      },
      "source": [
        "# Set up for dataset and model\n",
        "\n",
        "Package installation, loading, and dataloaders. There's also a resnet18 model defined."
      ]
    },
    {
      "cell_type": "code",
      "execution_count": 1,
      "metadata": {
        "id": "R1domTvnONqD"
      },
      "outputs": [],
      "source": [
        "# !pip install tensorboardX\n",
        "\n",
        "import torch\n",
        "import torch.nn as nn\n",
        "import torch.optim as optim\n",
        "import torch.nn.functional as F\n",
        "import numpy as np\n",
        "import time\n",
        "import matplotlib.pyplot as plt\n",
        "from tqdm import tqdm\n",
        "\n",
        "from torchvision import datasets, transforms\n",
        "# from tensorboardX import SummaryWriter\n",
        "\n",
        "use_cuda = True\n",
        "device = torch.device(\"cuda\" if use_cuda else \"cpu\")\n",
        "batch_size = 64\n",
        "\n",
        "np.random.seed(42)\n",
        "torch.manual_seed(42)\n",
        "\n",
        "\n",
        "## Dataloaders\n",
        "train_dataset = datasets.CIFAR10('cifar10_data/', train=True, download=True, transform=transforms.Compose(\n",
        "    [transforms.ToTensor()]\n",
        "))\n",
        "test_dataset = datasets.CIFAR10('cifar10_data/', train=False, download=True, transform=transforms.Compose(\n",
        "    [transforms.ToTensor()]\n",
        "))\n",
        "\n",
        "train_loader = torch.utils.data.DataLoader(train_dataset, batch_size=batch_size, shuffle=True)\n",
        "test_loader = torch.utils.data.DataLoader(test_dataset, batch_size=batch_size, shuffle=False)\n",
        "\n"
      ]
    },
    {
      "cell_type": "code",
      "execution_count": 3,
      "metadata": {},
      "outputs": [
        {
          "name": "stdout",
          "output_type": "stream",
          "text": [
            "torch: 2.5.1+cu124\n"
          ]
        }
      ],
      "source": [
        "import torch\n",
        "print(\"torch:\", torch.__version__)"
      ]
    },
    {
      "cell_type": "code",
      "execution_count": 2,
      "metadata": {},
      "outputs": [
        {
          "name": "stdout",
          "output_type": "stream",
          "text": [
            "no input normalization\n"
          ]
        },
        {
          "data": {
            "text/plain": [
              "PreActResNet(\n",
              "  (normalize): Normalize()\n",
              "  (conv1): Conv2d(3, 64, kernel_size=(3, 3), stride=(1, 1), padding=(1, 1), bias=False)\n",
              "  (layer1): Sequential(\n",
              "    (0): PreActBlock(\n",
              "      (bn1): BatchNorm2d(64, eps=1e-05, momentum=0.1, affine=True, track_running_stats=True)\n",
              "      (conv1): Conv2d(64, 64, kernel_size=(3, 3), stride=(1, 1), padding=(1, 1), bias=False)\n",
              "      (bn2): BatchNorm2d(64, eps=1e-05, momentum=0.1, affine=True, track_running_stats=True)\n",
              "      (conv2): Conv2d(64, 64, kernel_size=(3, 3), stride=(1, 1), padding=(1, 1), bias=False)\n",
              "    )\n",
              "    (1): PreActBlock(\n",
              "      (bn1): BatchNorm2d(64, eps=1e-05, momentum=0.1, affine=True, track_running_stats=True)\n",
              "      (conv1): Conv2d(64, 64, kernel_size=(3, 3), stride=(1, 1), padding=(1, 1), bias=False)\n",
              "      (bn2): BatchNorm2d(64, eps=1e-05, momentum=0.1, affine=True, track_running_stats=True)\n",
              "      (conv2): Conv2d(64, 64, kernel_size=(3, 3), stride=(1, 1), padding=(1, 1), bias=False)\n",
              "    )\n",
              "  )\n",
              "  (layer2): Sequential(\n",
              "    (0): PreActBlock(\n",
              "      (bn1): BatchNorm2d(64, eps=1e-05, momentum=0.1, affine=True, track_running_stats=True)\n",
              "      (conv1): Conv2d(64, 128, kernel_size=(3, 3), stride=(2, 2), padding=(1, 1), bias=False)\n",
              "      (bn2): BatchNorm2d(128, eps=1e-05, momentum=0.1, affine=True, track_running_stats=True)\n",
              "      (conv2): Conv2d(128, 128, kernel_size=(3, 3), stride=(1, 1), padding=(1, 1), bias=False)\n",
              "      (shortcut): Sequential(\n",
              "        (0): Conv2d(64, 128, kernel_size=(1, 1), stride=(2, 2), bias=False)\n",
              "      )\n",
              "    )\n",
              "    (1): PreActBlock(\n",
              "      (bn1): BatchNorm2d(128, eps=1e-05, momentum=0.1, affine=True, track_running_stats=True)\n",
              "      (conv1): Conv2d(128, 128, kernel_size=(3, 3), stride=(1, 1), padding=(1, 1), bias=False)\n",
              "      (bn2): BatchNorm2d(128, eps=1e-05, momentum=0.1, affine=True, track_running_stats=True)\n",
              "      (conv2): Conv2d(128, 128, kernel_size=(3, 3), stride=(1, 1), padding=(1, 1), bias=False)\n",
              "    )\n",
              "  )\n",
              "  (layer3): Sequential(\n",
              "    (0): PreActBlock(\n",
              "      (bn1): BatchNorm2d(128, eps=1e-05, momentum=0.1, affine=True, track_running_stats=True)\n",
              "      (conv1): Conv2d(128, 256, kernel_size=(3, 3), stride=(2, 2), padding=(1, 1), bias=False)\n",
              "      (bn2): BatchNorm2d(256, eps=1e-05, momentum=0.1, affine=True, track_running_stats=True)\n",
              "      (conv2): Conv2d(256, 256, kernel_size=(3, 3), stride=(1, 1), padding=(1, 1), bias=False)\n",
              "      (shortcut): Sequential(\n",
              "        (0): Conv2d(128, 256, kernel_size=(1, 1), stride=(2, 2), bias=False)\n",
              "      )\n",
              "    )\n",
              "    (1): PreActBlock(\n",
              "      (bn1): BatchNorm2d(256, eps=1e-05, momentum=0.1, affine=True, track_running_stats=True)\n",
              "      (conv1): Conv2d(256, 256, kernel_size=(3, 3), stride=(1, 1), padding=(1, 1), bias=False)\n",
              "      (bn2): BatchNorm2d(256, eps=1e-05, momentum=0.1, affine=True, track_running_stats=True)\n",
              "      (conv2): Conv2d(256, 256, kernel_size=(3, 3), stride=(1, 1), padding=(1, 1), bias=False)\n",
              "    )\n",
              "  )\n",
              "  (layer4): Sequential(\n",
              "    (0): PreActBlock(\n",
              "      (bn1): BatchNorm2d(256, eps=1e-05, momentum=0.1, affine=True, track_running_stats=True)\n",
              "      (conv1): Conv2d(256, 512, kernel_size=(3, 3), stride=(2, 2), padding=(1, 1), bias=False)\n",
              "      (bn2): BatchNorm2d(512, eps=1e-05, momentum=0.1, affine=True, track_running_stats=True)\n",
              "      (conv2): Conv2d(512, 512, kernel_size=(3, 3), stride=(1, 1), padding=(1, 1), bias=False)\n",
              "      (shortcut): Sequential(\n",
              "        (0): Conv2d(256, 512, kernel_size=(1, 1), stride=(2, 2), bias=False)\n",
              "      )\n",
              "    )\n",
              "    (1): PreActBlock(\n",
              "      (bn1): BatchNorm2d(512, eps=1e-05, momentum=0.1, affine=True, track_running_stats=True)\n",
              "      (conv1): Conv2d(512, 512, kernel_size=(3, 3), stride=(1, 1), padding=(1, 1), bias=False)\n",
              "      (bn2): BatchNorm2d(512, eps=1e-05, momentum=0.1, affine=True, track_running_stats=True)\n",
              "      (conv2): Conv2d(512, 512, kernel_size=(3, 3), stride=(1, 1), padding=(1, 1), bias=False)\n",
              "    )\n",
              "  )\n",
              "  (bn): BatchNorm2d(512, eps=1e-05, momentum=0.1, affine=True, track_running_stats=True)\n",
              "  (linear): Linear(in_features=512, out_features=10, bias=True)\n",
              ")"
            ]
          },
          "execution_count": 2,
          "metadata": {},
          "output_type": "execute_result"
        }
      ],
      "source": [
        "\n",
        "def tp_relu(x, delta=1.):\n",
        "    ind1 = (x < -1. * delta).float()\n",
        "    ind2 = (x > delta).float()\n",
        "    return .5 * (x + delta) * (1 - ind1) * (1 - ind2) + x * ind2\n",
        "\n",
        "def tp_smoothed_relu(x, delta=1.):\n",
        "    ind1 = (x < -1. * delta).float()\n",
        "    ind2 = (x > delta).float()\n",
        "    return (x + delta) ** 2 / (4 * delta) * (1 - ind1) * (1 - ind2) + x * ind2\n",
        "\n",
        "class Normalize(nn.Module):\n",
        "    def __init__(self, mu, std):\n",
        "        super(Normalize, self).__init__()\n",
        "        self.mu, self.std = mu, std\n",
        "\n",
        "    def forward(self, x):\n",
        "        return (x - self.mu) / self.std\n",
        "\n",
        "class IdentityLayer(nn.Module):\n",
        "    def forward(self, inputs):\n",
        "        return inputs\n",
        "    \n",
        "class PreActBlock(nn.Module):\n",
        "    '''Pre-activation version of the BasicBlock.'''\n",
        "    expansion = 1\n",
        "\n",
        "    def __init__(self, in_planes, planes, bn, learnable_bn, stride=1, activation='relu'):\n",
        "        super(PreActBlock, self).__init__()\n",
        "        self.collect_preact = True\n",
        "        self.activation = activation\n",
        "        self.avg_preacts = []\n",
        "        self.bn1 = nn.BatchNorm2d(in_planes, affine=learnable_bn) if bn else IdentityLayer()\n",
        "        self.conv1 = nn.Conv2d(in_planes, planes, kernel_size=3, stride=stride, padding=1, bias=not learnable_bn)\n",
        "        self.bn2 = nn.BatchNorm2d(planes, affine=learnable_bn) if bn else IdentityLayer()\n",
        "        self.conv2 = nn.Conv2d(planes, planes, kernel_size=3, stride=1, padding=1, bias=not learnable_bn)\n",
        "\n",
        "        if stride != 1 or in_planes != self.expansion*planes:\n",
        "            self.shortcut = nn.Sequential(\n",
        "                nn.Conv2d(in_planes, self.expansion*planes, kernel_size=1, stride=stride, bias=not learnable_bn)\n",
        "            )\n",
        "\n",
        "    def act_function(self, preact):\n",
        "        if self.activation == 'relu':\n",
        "            act = F.relu(preact)\n",
        "        elif self.activation[:6] == '3prelu':\n",
        "            act = tp_relu(preact, delta=float(self.activation.split('relu')[1]))\n",
        "        elif self.activation[:8] == '3psmooth':\n",
        "            act = tp_smoothed_relu(preact, delta=float(self.activation.split('smooth')[1]))\n",
        "        else:\n",
        "            assert self.activation[:8] == 'softplus'\n",
        "            beta = int(self.activation.split('softplus')[1])\n",
        "            act = F.softplus(preact, beta=beta)\n",
        "        return act\n",
        "\n",
        "    def forward(self, x):\n",
        "        out = self.act_function(self.bn1(x))\n",
        "        shortcut = self.shortcut(out) if hasattr(self, 'shortcut') else x  # Important: using out instead of x\n",
        "        out = self.conv1(out)\n",
        "        out = self.conv2(self.act_function(self.bn2(out)))\n",
        "        out += shortcut\n",
        "        return out\n",
        "\n",
        "class PreActResNet(nn.Module):\n",
        "    def __init__(self, block, num_blocks, n_cls, cuda=True, half_prec=False,\n",
        "        activation='relu', fts_before_bn=False, normal='none'):\n",
        "        super(PreActResNet, self).__init__()\n",
        "        self.bn = True\n",
        "        self.learnable_bn = True  # doesn't matter if self.bn=False\n",
        "        self.in_planes = 64\n",
        "        self.avg_preact = None\n",
        "        self.activation = activation\n",
        "        self.fts_before_bn = fts_before_bn\n",
        "        if normal == 'cifar10':\n",
        "            self.mu = torch.tensor((0.4914, 0.4822, 0.4465)).view(1, 3, 1, 1)\n",
        "            self.std = torch.tensor((0.2471, 0.2435, 0.2616)).view(1, 3, 1, 1)\n",
        "        else:\n",
        "            self.mu = torch.tensor((0.0, 0.0, 0.0)).view(1, 3, 1, 1)\n",
        "            self.std = torch.tensor((1.0, 1.0, 1.0)).view(1, 3, 1, 1)\n",
        "            print('no input normalization')\n",
        "        if cuda:\n",
        "            self.mu = self.mu.cuda()\n",
        "            self.std = self.std.cuda()\n",
        "        if half_prec:\n",
        "            self.mu = self.mu.half()\n",
        "            self.std = self.std.half()\n",
        "\n",
        "        self.normalize = Normalize(self.mu, self.std)\n",
        "        self.conv1 = nn.Conv2d(3, 64, kernel_size=3, stride=1, padding=1, bias=not self.learnable_bn)\n",
        "        self.layer1 = self._make_layer(block, 64, num_blocks[0], stride=1)\n",
        "        self.layer2 = self._make_layer(block, 128, num_blocks[1], stride=2)\n",
        "        self.layer3 = self._make_layer(block, 256, num_blocks[2], stride=2)\n",
        "        self.layer4 = self._make_layer(block, 512, num_blocks[3], stride=2)\n",
        "        self.bn = nn.BatchNorm2d(512 * block.expansion)\n",
        "        self.linear = nn.Linear(512*block.expansion, n_cls)\n",
        "\n",
        "    def _make_layer(self, block, planes, num_blocks, stride):\n",
        "        strides = [stride] + [1]*(num_blocks-1)\n",
        "        layers = []\n",
        "        for stride in strides:\n",
        "            layers.append(block(self.in_planes, planes, self.bn, self.learnable_bn, stride, self.activation))\n",
        "            # layers.append(block(self.in_planes, planes, stride))\n",
        "            self.in_planes = planes * block.expansion\n",
        "        return nn.Sequential(*layers)\n",
        "\n",
        "    def forward(self, x, return_features=False):\n",
        "        for layer in [*self.layer1, *self.layer2, *self.layer3, *self.layer4]:\n",
        "            layer.avg_preacts = []\n",
        "\n",
        "        out = self.normalize(x)\n",
        "        out = self.conv1(out)\n",
        "        out = self.layer1(out)\n",
        "        out = self.layer2(out)\n",
        "        out = self.layer3(out)\n",
        "        out = self.layer4(out)\n",
        "        if return_features and self.fts_before_bn:\n",
        "            return out.view(out.size(0), -1)\n",
        "        out = F.relu(self.bn(out))\n",
        "        if return_features:\n",
        "            return out.view(out.size(0), -1)\n",
        "        out = F.avg_pool2d(out, 4)\n",
        "        out = out.view(out.size(0), -1)\n",
        "        out = self.linear(out)\n",
        "\n",
        "        return out\n",
        "\n",
        "\n",
        "def PreActResNet18(n_cls, cuda=True, half_prec=False, activation='relu', fts_before_bn=False,\n",
        "    normal='none'):\n",
        "    #print('initializing PA RN-18 with act {}, normal {}'.format())\n",
        "    return PreActResNet(PreActBlock, [2, 2, 2, 2], n_cls=n_cls, cuda=cuda, half_prec=half_prec,\n",
        "        activation=activation, fts_before_bn=fts_before_bn, normal=normal)\n",
        "\n",
        "\n",
        "# intialize the model\n",
        "model = PreActResNet18(10, cuda=True, activation='softplus1').to(device)\n",
        "model.eval()"
      ]
    },
    {
      "cell_type": "markdown",
      "metadata": {
        "id": "NCmWfZHTO8Oo"
      },
      "source": [
        "# Implement the Attacks\n",
        "\n",
        "Functions are given a simple useful signature that you can start with. Feel free to extend the signature as you see fit.\n",
        "\n",
        "You may find it useful to create a 'batched' version of PGD that you can use to create the adversarial attack."
      ]
    },
    {
      "cell_type": "code",
      "execution_count": 3,
      "metadata": {
        "id": "EZjvA49yONqP"
      },
      "outputs": [],
      "source": [
        "def pgd_linf_untargeted(model, x, labels, k, eps, eps_step):\n",
        "    model.eval()\n",
        "    ce_loss = torch.nn.CrossEntropyLoss()\n",
        "    adv_x = x.clone().detach()\n",
        "    adv_x.requires_grad_(True) \n",
        "    clamp_min = 0.0\n",
        "    clamp_max = 1.0\n",
        "    x_2 = x.detach()\n",
        "    for _ in range(k):\n",
        "        adv_x.requires_grad_(True)\n",
        "        model.zero_grad()\n",
        "        output = model(adv_x)\n",
        "        # TODO: Calculate the loss\n",
        "        # loss = TODO\n",
        "        loss=ce_loss(output, labels.long())\n",
        "        if adv_x.grad is not None:\n",
        "            adv_x.grad.zero_()\n",
        "        \n",
        "        loss.backward()\n",
        "        \n",
        "        # TODO: compute the adv_x\n",
        "        # find delta, clamp with eps\n",
        "        with torch.no_grad():\n",
        "            adv_x=adv_x + eps_step * adv_x.grad.sign()\n",
        "            delta=torch.clamp(adv_x - x_2, min=-eps, max=eps)\n",
        "            adv_x=x_2 + delta\n",
        "            adv_x=torch.clamp(adv_x, min=clamp_min, max=clamp_max)\n",
        "\n",
        "        adv_x.requires_grad_(True)  \n",
        "    return adv_x\n",
        "\n",
        "\n",
        "\n"
      ]
    },
    {
      "cell_type": "code",
      "execution_count": null,
      "metadata": {},
      "outputs": [],
      "source": [
        "def pgd_l2_untargeted(model, x, labels, k, eps, eps_step):\n",
        "    model.eval()\n",
        "    ce_loss = torch.nn.CrossEntropyLoss()\n",
        "    x_2=x.detach()\n",
        "    adv_x = x.clone().detach()\n",
        "    adv_x.requires_grad_(True) \n",
        "    for _ in range(k):\n",
        "        adv_x.requires_grad_(True)\n",
        "        model.zero_grad()\n",
        "        output = model(adv_x)\n",
        "        batch_size = x.size()[0]\n",
        "        # TODO: Calculate the loss\n",
        "        loss=ce_loss(output, labels.long())\n",
        "        loss.backward()\n",
        "        grad=adv_x.grad.data\n",
        "        grad_2=grad.view(grad.size(0), -1)\n",
        "        # print(\"debug: grad_2\",grad_2)\n",
        "        grad_n=grad_2.norm(p=2, dim=1).view(-1, *([1] * (grad.dim()-1)))\n",
        "        # print(\"debug: grad_n\",grad_n)\n",
        "        step=eps_step*grad/ (grad_n + 1e-10)\n",
        "        with torch.no_grad():\n",
        "            x_t=adv_x + step\n",
        "            delta=x_t - x_2\n",
        "            delta_flat=delta.view(delta.size(0), -1)\n",
        "            delta_norm=delta_flat.norm(p=2, dim=1)\n",
        "            scale=torch.clamp(eps / (delta_norm + 1e-12), max=1.0)\n",
        "            scale=scale.view(-1, *([1] * (delta.dim()-1)))\n",
        "            adv_x=x_2 + delta * scale\n",
        "            adv_x= adv_x.clamp(0.0, 1.0)\n",
        "            # print(\"debug: adv_x\",adv_x)\n",
        "        # TODO: compute the adv_x\n",
        "        # find delta, clamp with eps, project delta to the l2 ball\n",
        "        # HINT: https://github.com/Harry24k/adversarial-attacks-pytorch/blob/master/torchattacks/attacks/pgdl2.py \n",
        "   \n",
        "    # return adv_x.detack()\n",
        "    return adv_x.detach()\n",
        "\n"
      ]
    },
    {
      "cell_type": "markdown",
      "metadata": {
        "id": "0Mja_AB4RykO"
      },
      "source": [
        "# Evaluate Single and Multi-Norm Robust Accuracy\n",
        "\n",
        "In this section, we evaluate the model on the Linf and L2 attacks as well as union accuracy."
      ]
    },
    {
      "cell_type": "code",
      "execution_count": 12,
      "metadata": {},
      "outputs": [],
      "source": [
        "def test_model_on_single_attack(model, attack='pgd_linf', eps=0.1):\n",
        "    model.eval()\n",
        "    tot_test, tot_acc = 0.0, 0.0\n",
        "    for batch_idx, (x_batch, y_batch) in tqdm(enumerate(test_loader), total=len(test_loader), desc=\"Evaluating\"):\n",
        "        x_batch, y_batch = x_batch.to(device), y_batch.to(device)\n",
        "        if attack == 'pgd_linf':\n",
        "            # TODO: get x_adv untargeted pgd linf with eps, and eps_step=eps/4\n",
        "            k=10\n",
        "            eps_step=eps/4\n",
        "            x_adv=pgd_linf_untargeted(model, x_batch, y_batch, k=k, eps=eps, eps_step=eps_step)\n",
        "        elif attack == 'pgd_l2':\n",
        "            # TODO: get x_adv untargeted pgd l2 with eps, and eps_step=eps/4\n",
        "            k=10\n",
        "            eps_step=eps/4\n",
        "            x_adv=pgd_l2_untargeted(model, x_batch, y_batch, k=k, eps=eps, eps_step=eps_step)\n",
        "        else:\n",
        "            x_adv = x_batch.detach()\n",
        "            # pass\n",
        "        \n",
        "        # get the testing accuracy and update tot_test and tot_acc\n",
        "        logits=model(x_adv)\n",
        "        tot_acc +=(logits.argmax(dim=1) == y_batch).sum().item()\n",
        "        tot_test += x_batch.size(0)\n",
        "            \n",
        "    print('Robust accuracy %.5lf' % (tot_acc/tot_test), f'on {attack} attack with eps = {eps}')"
      ]
    },
    {
      "cell_type": "code",
      "execution_count": 13,
      "metadata": {},
      "outputs": [
        {
          "name": "stdout",
          "output_type": "stream",
          "text": [
            "\n",
            "[Eval] pretr_Linf under no attack, eps = 0.031373\n"
          ]
        },
        {
          "name": "stderr",
          "output_type": "stream",
          "text": [
            "Evaluating: 100%|██████████| 157/157 [00:02<00:00, 54.92it/s]\n"
          ]
        },
        {
          "name": "stdout",
          "output_type": "stream",
          "text": [
            "Robust accuracy 0.82800 on no attack with eps = 0.03137254901960784\n",
            "\n",
            "[Eval] pretr_L2 under no attack, eps = 0.031373\n"
          ]
        },
        {
          "name": "stderr",
          "output_type": "stream",
          "text": [
            "Evaluating: 100%|██████████| 157/157 [00:02<00:00, 58.69it/s]\n"
          ]
        },
        {
          "name": "stdout",
          "output_type": "stream",
          "text": [
            "Robust accuracy 0.88750 on no attack with eps = 0.03137254901960784\n",
            "\n",
            "[Eval] pretr_RAMP under no attack, eps = 0.031373\n"
          ]
        },
        {
          "name": "stderr",
          "output_type": "stream",
          "text": [
            "Evaluating: 100%|██████████| 157/157 [00:02<00:00, 58.64it/s]"
          ]
        },
        {
          "name": "stdout",
          "output_type": "stream",
          "text": [
            "Robust accuracy 0.81190 on no attack with eps = 0.03137254901960784\n"
          ]
        },
        {
          "name": "stderr",
          "output_type": "stream",
          "text": [
            "\n"
          ]
        }
      ],
      "source": [
        "# Evaluate on Linf attack with different models with eps = 8/255\n",
        "model.load_state_dict(torch.load('models/pretr_Linf.pth'))\n",
        "# Evaluate on Linf attack with model 1 with eps = 8/255\n",
        "\n",
        "model.load_state_dict(torch.load('models/pretr_L2.pth'))\n",
        "# Evaluate on Linf attack with model 2 with eps = 8/255\n",
        "\n",
        "model.load_state_dict(torch.load('models/pretr_RAMP.pth'))\n",
        "# Evaluate on Linf attack with model 3 with eps = 8/255\n",
        "\n",
        "eps = 8/255\n",
        "\n",
        "model_ckpts = {\n",
        "    \"pretr_Linf\": \"models/pretr_Linf.pth\",\n",
        "    \"pretr_L2\":   \"models/pretr_L2.pth\",\n",
        "    \"pretr_RAMP\": \"models/pretr_RAMP.pth\",\n",
        "}\n",
        "\n",
        "for name, ckpt in model_ckpts.items():\n",
        "    print(f\"\\n[Eval] {name} under no attack, eps = {eps:.6f}\")\n",
        "    state = torch.load(ckpt, map_location=device)\n",
        "    model.load_state_dict(state)\n",
        "    model.to(device).eval()\n",
        "    test_model_on_single_attack(model, attack='no', eps=eps)"
      ]
    },
    {
      "cell_type": "markdown",
      "metadata": {
        "id": "ZPMdfEhtR3zm"
      },
      "source": [
        "## Single-Norm Robust Accuracy"
      ]
    },
    {
      "cell_type": "code",
      "execution_count": 11,
      "metadata": {},
      "outputs": [
        {
          "name": "stdout",
          "output_type": "stream",
          "text": [
            "\n",
            "[Eval] pretr_Linf under PGD-Linf, eps = 0.031373\n"
          ]
        },
        {
          "name": "stderr",
          "output_type": "stream",
          "text": [
            "Evaluating: 100%|██████████| 157/157 [00:47<00:00,  3.30it/s]\n"
          ]
        },
        {
          "name": "stdout",
          "output_type": "stream",
          "text": [
            "Robust accuracy 0.51200 on pgd_linf attack with eps = 0.03137254901960784\n",
            "\n",
            "[Eval] pretr_L2 under PGD-Linf, eps = 0.031373\n"
          ]
        },
        {
          "name": "stderr",
          "output_type": "stream",
          "text": [
            "Evaluating: 100%|██████████| 157/157 [00:34<00:00,  4.52it/s]\n"
          ]
        },
        {
          "name": "stdout",
          "output_type": "stream",
          "text": [
            "Robust accuracy 0.30850 on pgd_linf attack with eps = 0.03137254901960784\n",
            "\n",
            "[Eval] pretr_RAMP under PGD-Linf, eps = 0.031373\n"
          ]
        },
        {
          "name": "stderr",
          "output_type": "stream",
          "text": [
            "Evaluating: 100%|██████████| 157/157 [00:34<00:00,  4.53it/s]"
          ]
        },
        {
          "name": "stdout",
          "output_type": "stream",
          "text": [
            "Robust accuracy 0.49740 on pgd_linf attack with eps = 0.03137254901960784\n"
          ]
        },
        {
          "name": "stderr",
          "output_type": "stream",
          "text": [
            "\n"
          ]
        }
      ],
      "source": [
        "# Evaluate on Linf attack with different models with eps = 8/255\n",
        "model.load_state_dict(torch.load('models/pretr_Linf.pth'))\n",
        "# Evaluate on Linf attack with model 1 with eps = 8/255\n",
        "\n",
        "model.load_state_dict(torch.load('models/pretr_L2.pth'))\n",
        "# Evaluate on Linf attack with model 2 with eps = 8/255\n",
        "\n",
        "model.load_state_dict(torch.load('models/pretr_RAMP.pth'))\n",
        "# Evaluate on Linf attack with model 3 with eps = 8/255\n",
        "\n",
        "eps = 8/255\n",
        "\n",
        "model_ckpts = {\n",
        "    \"pretr_Linf\": \"models/pretr_Linf.pth\",\n",
        "    \"pretr_L2\":   \"models/pretr_L2.pth\",\n",
        "    \"pretr_RAMP\": \"models/pretr_RAMP.pth\",\n",
        "}\n",
        "\n",
        "for name, ckpt in model_ckpts.items():\n",
        "    print(f\"\\n[Eval] {name} under PGD-Linf, eps = {eps:.6f}\")\n",
        "    state = torch.load(ckpt, map_location=device)\n",
        "    model.load_state_dict(state)\n",
        "    model.to(device).eval()\n",
        "    test_model_on_single_attack(model, attack='pgd_linf', eps=eps)"
      ]
    },
    {
      "cell_type": "code",
      "execution_count": 10,
      "metadata": {},
      "outputs": [
        {
          "name": "stdout",
          "output_type": "stream",
          "text": [
            "\n",
            "[Eval] pretr_Linf under PGD-L2, eps = 0.750000\n"
          ]
        },
        {
          "name": "stderr",
          "output_type": "stream",
          "text": [
            "Evaluating: 100%|██████████| 157/157 [00:40<00:00,  3.92it/s]\n"
          ]
        },
        {
          "name": "stdout",
          "output_type": "stream",
          "text": [
            "Robust accuracy 0.48810 on pgd_l2 attack with eps = 0.75\n",
            "\n",
            "[Eval] pretr_L2 under PGD-L2, eps = 0.750000\n"
          ]
        },
        {
          "name": "stderr",
          "output_type": "stream",
          "text": [
            "Evaluating: 100%|██████████| 157/157 [00:38<00:00,  4.12it/s]\n"
          ]
        },
        {
          "name": "stdout",
          "output_type": "stream",
          "text": [
            "Robust accuracy 0.54380 on pgd_l2 attack with eps = 0.75\n",
            "\n",
            "[Eval] pretr_RAMP under PGD-L2, eps = 0.750000\n"
          ]
        },
        {
          "name": "stderr",
          "output_type": "stream",
          "text": [
            "Evaluating: 100%|██████████| 157/157 [00:38<00:00,  4.11it/s]"
          ]
        },
        {
          "name": "stdout",
          "output_type": "stream",
          "text": [
            "Robust accuracy 0.59660 on pgd_l2 attack with eps = 0.75\n"
          ]
        },
        {
          "name": "stderr",
          "output_type": "stream",
          "text": [
            "\n"
          ]
        }
      ],
      "source": [
        "# Evaluate on L2 attack with different models with eps = 0.75\n",
        "model.load_state_dict(torch.load('models/pretr_Linf.pth'))\n",
        "# Evaluate on Linf attack with model 1 with eps = 0.75\n",
        "\n",
        "model.load_state_dict(torch.load('models/pretr_L2.pth'))\n",
        "# Evaluate on Linf attack with model 2 with eps = 0.75\n",
        "\n",
        "model.load_state_dict(torch.load('models/pretr_RAMP.pth'))\n",
        "# Evaluate on Linf attack with model 3 with eps = 0.75\n",
        "eps = 0.75\n",
        "\n",
        "model_ckpts = {\n",
        "    \"pretr_Linf\": \"models/pretr_Linf.pth\",\n",
        "    \"pretr_L2\":   \"models/pretr_L2.pth\",\n",
        "    \"pretr_RAMP\": \"models/pretr_RAMP.pth\",\n",
        "}\n",
        "\n",
        "for name, ckpt in model_ckpts.items():\n",
        "    print(f\"\\n[Eval] {name} under PGD-L2, eps = {eps:.6f}\")\n",
        "    state = torch.load(ckpt, map_location=device)\n",
        "    model.load_state_dict(state)\n",
        "    model.to(device).eval()\n",
        "    test_model_on_single_attack(model, attack='pgd_l2', eps=eps)\n"
      ]
    },
    {
      "cell_type": "markdown",
      "metadata": {},
      "source": [
        "## Multi-Norm Robust Accuracy"
      ]
    },
    {
      "cell_type": "code",
      "execution_count": 20,
      "metadata": {},
      "outputs": [],
      "source": [
        "def test_model_on_multi_attacks(model, eps_linf=8./255., eps_l2=0.75):\n",
        "    model.eval()\n",
        "    tot_test, tot_acc = 0.0, 0.0\n",
        "    for batch_idx, (x_batch, y_batch) in tqdm(enumerate(test_loader), total=len(test_loader), desc=\"Evaluating\"):\n",
        "        x_batch, y_batch = x_batch.to(device), y_batch.to(device)\n",
        "        # TODO: get x_adv_linf and x_adv_l2 untargeted pgd linf and l2 with eps, and eps_step=eps/4\n",
        "        # x_adv_linf = TODO\n",
        "        # x_adv_l2 = TODO\n",
        "        k=10\n",
        "        linf_step=eps_linf/ 4.0\n",
        "        l2_step=eps_l2 / 4.0\n",
        "        x_adv_linf=pgd_linf_untargeted(model, x_batch, y_batch, k=k, eps=eps_linf, eps_step=linf_step)\n",
        "        x_adv_l2=pgd_l2_untargeted(  model, x_batch, y_batch, k=k, eps=eps_l2,   eps_step=l2_step)\n",
        "\n",
        "        ## calculate union accuracy: correct only if both attacks are correct\n",
        "        \n",
        "        out = model(x_adv_linf)\n",
        "        pred_linf = torch.max(out, dim=1)[1]\n",
        "        out = model(x_adv_l2)\n",
        "        pred_l2 = torch.max(out, dim=1)[1]\n",
        "        \n",
        "        # TODO: get the testing accuracy with multi-norm robustness and update tot_test and tot_acc\n",
        "        tot_acc += ((pred_linf == y_batch) & (pred_l2 == y_batch)).sum().item()\n",
        "        \n",
        "        tot_test += y_batch.size(0)\n",
        "            \n",
        "    print('Robust accuracy %.5lf' % (tot_acc/tot_test), f'on multi attacks')"
      ]
    },
    {
      "cell_type": "code",
      "execution_count": 21,
      "metadata": {},
      "outputs": [
        {
          "name": "stdout",
          "output_type": "stream",
          "text": [
            "\n",
            "[Eval Multi-Norm] pretr_Linf | eps_linf=0.031373, eps_l2=0.75\n"
          ]
        },
        {
          "name": "stderr",
          "output_type": "stream",
          "text": [
            "Evaluating: 100%|██████████| 157/157 [01:08<00:00,  2.29it/s]\n"
          ]
        },
        {
          "name": "stdout",
          "output_type": "stream",
          "text": [
            "Robust accuracy 0.47030 on multi attacks\n",
            "\n",
            "[Eval Multi-Norm] pretr_L2 | eps_linf=0.031373, eps_l2=0.75\n"
          ]
        },
        {
          "name": "stderr",
          "output_type": "stream",
          "text": [
            "Evaluating: 100%|██████████| 157/157 [01:09<00:00,  2.27it/s]\n"
          ]
        },
        {
          "name": "stdout",
          "output_type": "stream",
          "text": [
            "Robust accuracy 0.30850 on multi attacks\n",
            "\n",
            "[Eval Multi-Norm] pretr_RAMP | eps_linf=0.031373, eps_l2=0.75\n"
          ]
        },
        {
          "name": "stderr",
          "output_type": "stream",
          "text": [
            "Evaluating: 100%|██████████| 157/157 [01:07<00:00,  2.31it/s]"
          ]
        },
        {
          "name": "stdout",
          "output_type": "stream",
          "text": [
            "Robust accuracy 0.49730 on multi attacks\n"
          ]
        },
        {
          "name": "stderr",
          "output_type": "stream",
          "text": [
            "\n"
          ]
        }
      ],
      "source": [
        "# Evaluate on multi-norm attacks with different models with eps_linf = 8./255, eps_l2 = 0.75\n",
        "model.load_state_dict(torch.load('models/pretr_Linf.pth'))\n",
        "# Evaluate on multi attacks with model 1\n",
        "\n",
        "model.load_state_dict(torch.load('models/pretr_L2.pth'))\n",
        "# Evaluate on multi attacks with model 2\n",
        "\n",
        "model.load_state_dict(torch.load('models/pretr_RAMP.pth'))\n",
        "# Evaluate on multi attacks with model 3\n",
        "\n",
        "# ===== Evaluate on multi-norm attacks with different models =====\n",
        "eps_linf = 8.0 / 255.0\n",
        "eps_l2   = 0.75\n",
        "\n",
        "model_ckpts = {\n",
        "    \"pretr_Linf\": \"models/pretr_Linf.pth\",\n",
        "    \"pretr_L2\":   \"models/pretr_L2.pth\",\n",
        "    \"pretr_RAMP\": \"models/pretr_RAMP.pth\",\n",
        "}\n",
        "\n",
        "for name, ckpt in model_ckpts.items():\n",
        "    print(f\"\\n[Eval Multi-Norm] {name} | eps_linf={eps_linf:.6f}, eps_l2={eps_l2}\")\n",
        "    state = torch.load(ckpt, map_location=device)\n",
        "    model.load_state_dict(state)\n",
        "    model.to(device).eval()\n",
        "    test_model_on_multi_attacks(model, eps_linf=eps_linf, eps_l2=eps_l2)\n"
      ]
    }
  ],
  "metadata": {
    "colab": {
      "provenance": []
    },
    "kernelspec": {
      "display_name": "myenv",
      "language": "python",
      "name": "python3"
    },
    "language_info": {
      "codemirror_mode": {
        "name": "ipython",
        "version": 3
      },
      "file_extension": ".py",
      "mimetype": "text/x-python",
      "name": "python",
      "nbconvert_exporter": "python",
      "pygments_lexer": "ipython3",
      "version": "3.9.19"
    }
  },
  "nbformat": 4,
  "nbformat_minor": 0
}
